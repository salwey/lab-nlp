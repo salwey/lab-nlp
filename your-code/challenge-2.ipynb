{
 "cells": [
  {
   "cell_type": "markdown",
   "metadata": {},
   "source": [
    "# Challenge 2: Sentiment Analysis\n",
    "\n",
    "In this challenge we will learn sentiment analysis and practice performing sentiment analysis on Twitter tweets. \n",
    "\n",
    "## Introduction\n",
    "\n",
    "Sentiment analysis is to *systematically identify, extract, quantify, and study affective states and subjective information* based on texts ([reference](https://en.wikipedia.org/wiki/Sentiment_analysis)). In simple words, it's to understand whether a person is happy or unhappy in producing the piece of text. Why we (or rather, companies) care about sentiment in texts? It's because by understanding the sentiments in texts, we will be able to know if our customers are happy or unhappy about our products and services. If they are unhappy, the subsequent action is to figure out what have caused the unhappiness and make improvements.\n",
    "\n",
    "Basic sentiment analysis only understands the *positive* or *negative* (sometimes *neutral* too) polarities of the sentiment. More advanced sentiment analysis will also consider dimensions such as agreement, subjectivity, confidence, irony, and so on. In this challenge we will conduct the basic positive vs negative sentiment analysis based on real Twitter tweets.\n",
    "\n",
    "NLTK comes with a [sentiment analysis package](https://www.nltk.org/api/nltk.sentiment.html). This package is great for dummies to perform sentiment analysis because it requires only the textual data to make predictions. For example:\n",
    "\n",
    "```python\n",
    ">>> from nltk.sentiment.vader import SentimentIntensityAnalyzer\n",
    ">>> txt = \"Ironhack is a Global Tech School ranked num 2 worldwide.  ",
    " ",
    "Our mission is to help people transform their careers and join a thriving community of tech professionals that love what they do.\"\n",
    ">>> analyzer = SentimentIntensityAnalyzer()\n",
    ">>> analyzer.polarity_scores(txt)\n",
    "{'neg': 0.0, 'neu': 0.741, 'pos': 0.259, 'compound': 0.8442}\n",
    "```\n",
    "\n",
    "In this challenge, however, you will not use NLTK's sentiment analysis package because in your Machine Learning training in the past 2 weeks you have learned how to make predictions more accurate than that. The [tweets data](https://www.kaggle.com/kazanova/sentiment140) we will be using today are already coded for the positive/negative sentiment. You will be able to use the Naïve Bayes classifier you learned in the lesson to predict the sentiment of tweets based on the labels."
   ]
  },
  {
   "cell_type": "markdown",
   "metadata": {},
   "source": [
    "## Conducting Sentiment Analysis\n",
    "\n",
    "### Loading and Exploring Data\n",
    "\n",
    "The dataset we'll be using today is located on Kaggle (https://www.kaggle.com/kazanova/sentiment140). Once you have downloaded and imported the dataset, it you will need to define the columns names: df.columns = ['target','id','date','flag','user','text']\n",
    "\n",
    "*Notes:* \n",
    "\n",
    "* The dataset is huuuuge (1.6m tweets). When you develop your data analysis codes, you can sample a subset of the data (e.g. 20k records) so that you will save a lot of time when you test your codes."
   ]
  },
  {
   "cell_type": "code",
   "execution_count": 12,
   "metadata": {},
   "outputs": [],
   "source": [
    "import pandas as pd\n",
    "\n",
    "tweets = pd.read_csv('processed_tweets.csv', encoding='latin-1',  header=None)\n",
    "tweets.columns = ['target','id','date','flag','user','text']\n",
    "sample_tweets = tweets.sample(20000)"
   ]
  },
  {
   "cell_type": "markdown",
   "metadata": {},
   "source": [
    "### Prepare Textual Data for Sentiment Analysis\n",
    "\n",
    "Now, apply the functions you have written in Challenge 1 to your whole data set. These functions include:\n",
    "\n",
    "* `clean_up()`\n",
    "\n",
    "* `tokenize()`\n",
    "\n",
    "* `stem_and_lemmatize()`\n",
    "\n",
    "* `remove_stopwords()`\n",
    "\n",
    "Create a new column called `text_processed` in the dataframe to contain the processed data. At the end, your `text_processed` column should contain lists of word tokens that are cleaned up. Your data should look like below:\n",
    "\n",
    "![Processed Data](data-cleaning-results.png)"
   ]
  },
  {
   "cell_type": "code",
   "execution_count": 17,
   "metadata": {},
   "outputs": [],
   "source": [
    "# your code here\n",
    "import re\n",
    "\n",
    "def clean_up(s):\n",
    "    # https://stackoverflow.com/questions/3809401/what-is-a-good-regular-expression-to-match-a-url\n",
    "    pattern = '(https?:\\/\\/(?:www\\.|(?!www))[a-zA-Z0-9][a-zA-Z0-9-]+[a-zA-Z0-9]\\.[^\\s]{2,}|www\\.[a-zA-Z0-9][a-zA-Z0-9-]+[a-zA-Z0-9]\\.[^\\s]{2,}|https?:\\/\\/(?:www\\.|(?!www))[a-zA-Z0-9]+\\.[^\\s]{2,}|www\\.[a-zA-Z0-9]+\\.[^\\s]{2,})'\n",
    "    s = re.sub(pattern, ' ', s)\n",
    "    pattern = '[^A-Za-z]+'\n",
    "    s = re.sub(pattern, ' ', s)\n",
    "    return s\n",
    "\n",
    "from nltk.tokenize import word_tokenize\n",
    "import nltk\n",
    "import ssl\n",
    "\n",
    "def tokenize(s):\n",
    "    tokens = word_tokenize(s)\n",
    "    return tokens\n",
    "\n",
    "from nltk.stem import PorterStemmer\n",
    "from nltk.stem import WordNetLemmatizer \n",
    "from nltk.corpus import wordnet\n",
    "\n",
    "def stem_and_lemmatize(l):\n",
    "    ps = PorterStemmer()\n",
    "    lemmatizer = WordNetLemmatizer() \n",
    "    newl = []\n",
    "    for w in l:\n",
    "        stemmed = ps.stem(w)\n",
    "        lemmatized = lemmatizer.lemmatize(stemmed)\n",
    "        newl.append(lemmatized)\n",
    "    \n",
    "    return newl\n",
    "    \n",
    "from nltk.corpus import stopwords\n",
    "\n",
    "def remove_stopwords(l):\n",
    "    without_sw = [word for word in l if not word in stopwords.words()]\n",
    "    return without_sw"
   ]
  },
  {
   "cell_type": "code",
   "execution_count": 18,
   "metadata": {},
   "outputs": [],
   "source": [
    "sample_tweets['text_processed'] = sample_tweets['text'].apply(clean_up).apply(tokenize).apply(stem_and_lemmatize).apply(remove_stopwords)"
   ]
  },
  {
   "cell_type": "code",
   "execution_count": 19,
   "metadata": {},
   "outputs": [
    {
     "data": {
      "text/html": [
       "<div>\n",
       "<style scoped>\n",
       "    .dataframe tbody tr th:only-of-type {\n",
       "        vertical-align: middle;\n",
       "    }\n",
       "\n",
       "    .dataframe tbody tr th {\n",
       "        vertical-align: top;\n",
       "    }\n",
       "\n",
       "    .dataframe thead th {\n",
       "        text-align: right;\n",
       "    }\n",
       "</style>\n",
       "<table border=\"1\" class=\"dataframe\">\n",
       "  <thead>\n",
       "    <tr style=\"text-align: right;\">\n",
       "      <th></th>\n",
       "      <th>target</th>\n",
       "      <th>id</th>\n",
       "      <th>date</th>\n",
       "      <th>flag</th>\n",
       "      <th>user</th>\n",
       "      <th>text</th>\n",
       "      <th>text_processed</th>\n",
       "    </tr>\n",
       "  </thead>\n",
       "  <tbody>\n",
       "    <tr>\n",
       "      <th>254108</th>\n",
       "      <td>0</td>\n",
       "      <td>1984152248</td>\n",
       "      <td>Sun May 31 14:32:37 PDT 2009</td>\n",
       "      <td>NO_QUERY</td>\n",
       "      <td>Cupcakes_r_cute</td>\n",
       "      <td>Just got back from sushi, Run for Water, and I...</td>\n",
       "      <td>[got, back, sushi, run, water, found, wisdom, ...</td>\n",
       "    </tr>\n",
       "    <tr>\n",
       "      <th>663922</th>\n",
       "      <td>0</td>\n",
       "      <td>2244305304</td>\n",
       "      <td>Fri Jun 19 14:34:22 PDT 2009</td>\n",
       "      <td>NO_QUERY</td>\n",
       "      <td>indy44</td>\n",
       "      <td>@PlanetIrldotcom Just a heads up if you were p...</td>\n",
       "      <td>[planetirldotcom, head, plan, dvr, ing, practi...</td>\n",
       "    </tr>\n",
       "    <tr>\n",
       "      <th>1592886</th>\n",
       "      <td>4</td>\n",
       "      <td>2191827471</td>\n",
       "      <td>Tue Jun 16 06:02:28 PDT 2009</td>\n",
       "      <td>NO_QUERY</td>\n",
       "      <td>kellygysen</td>\n",
       "      <td>designing a billboard for our case-product: th...</td>\n",
       "      <td>[design, billboard, case, product, garden, wat...</td>\n",
       "    </tr>\n",
       "    <tr>\n",
       "      <th>562203</th>\n",
       "      <td>0</td>\n",
       "      <td>2205600014</td>\n",
       "      <td>Wed Jun 17 05:04:53 PDT 2009</td>\n",
       "      <td>NO_QUERY</td>\n",
       "      <td>b1ng0bang0</td>\n",
       "      <td>@feblub Tell me about it  Didn't know what it ...</td>\n",
       "      <td>[feblub, tell, know, wa, start, start, listen,...</td>\n",
       "    </tr>\n",
       "    <tr>\n",
       "      <th>775336</th>\n",
       "      <td>0</td>\n",
       "      <td>2321807194</td>\n",
       "      <td>Wed Jun 24 21:35:49 PDT 2009</td>\n",
       "      <td>NO_QUERY</td>\n",
       "      <td>atlcutii</td>\n",
       "      <td>It's too late to be doing homework</td>\n",
       "      <td>[late, homework]</td>\n",
       "    </tr>\n",
       "    <tr>\n",
       "      <th>...</th>\n",
       "      <td>...</td>\n",
       "      <td>...</td>\n",
       "      <td>...</td>\n",
       "      <td>...</td>\n",
       "      <td>...</td>\n",
       "      <td>...</td>\n",
       "      <td>...</td>\n",
       "    </tr>\n",
       "    <tr>\n",
       "      <th>819289</th>\n",
       "      <td>4</td>\n",
       "      <td>1553366653</td>\n",
       "      <td>Sat Apr 18 14:04:31 PDT 2009</td>\n",
       "      <td>NO_QUERY</td>\n",
       "      <td>KnitLuck</td>\n",
       "      <td>happy saturday fellow crafters.  Just spent th...</td>\n",
       "      <td>[happi, saturday, fellow, crafter, spent, morn...</td>\n",
       "    </tr>\n",
       "    <tr>\n",
       "      <th>1383641</th>\n",
       "      <td>4</td>\n",
       "      <td>2052586591</td>\n",
       "      <td>Sat Jun 06 01:15:03 PDT 2009</td>\n",
       "      <td>NO_QUERY</td>\n",
       "      <td>moktelyamja</td>\n",
       "      <td>bonchet is such an understanding cat. told him...</td>\n",
       "      <td>[bonchet, understand, told, quot, kakak, sleep...</td>\n",
       "    </tr>\n",
       "    <tr>\n",
       "      <th>302734</th>\n",
       "      <td>0</td>\n",
       "      <td>1999149102</td>\n",
       "      <td>Mon Jun 01 19:43:31 PDT 2009</td>\n",
       "      <td>NO_QUERY</td>\n",
       "      <td>MrJonty</td>\n",
       "      <td>finally done with press conferences. Have all ...</td>\n",
       "      <td>[final, done, press, confer, two, hour, next, ...</td>\n",
       "    </tr>\n",
       "    <tr>\n",
       "      <th>456452</th>\n",
       "      <td>0</td>\n",
       "      <td>2071285045</td>\n",
       "      <td>Sun Jun 07 19:08:39 PDT 2009</td>\n",
       "      <td>NO_QUERY</td>\n",
       "      <td>omgitsn33ps</td>\n",
       "      <td>@KatieRose393 i accidentally dropped my sister...</td>\n",
       "      <td>[katieros, accident, drop, sister, ipod, stair...</td>\n",
       "    </tr>\n",
       "    <tr>\n",
       "      <th>626395</th>\n",
       "      <td>0</td>\n",
       "      <td>2230571716</td>\n",
       "      <td>Thu Jun 18 17:18:06 PDT 2009</td>\n",
       "      <td>NO_QUERY</td>\n",
       "      <td>Cboardkid</td>\n",
       "      <td>@Naughty_Dog i had one but then it didnt work ...</td>\n",
       "      <td>[naughti, didnt, work, click, download]</td>\n",
       "    </tr>\n",
       "  </tbody>\n",
       "</table>\n",
       "<p>20000 rows × 7 columns</p>\n",
       "</div>"
      ],
      "text/plain": [
       "         target          id                          date      flag  \\\n",
       "254108        0  1984152248  Sun May 31 14:32:37 PDT 2009  NO_QUERY   \n",
       "663922        0  2244305304  Fri Jun 19 14:34:22 PDT 2009  NO_QUERY   \n",
       "1592886       4  2191827471  Tue Jun 16 06:02:28 PDT 2009  NO_QUERY   \n",
       "562203        0  2205600014  Wed Jun 17 05:04:53 PDT 2009  NO_QUERY   \n",
       "775336        0  2321807194  Wed Jun 24 21:35:49 PDT 2009  NO_QUERY   \n",
       "...         ...         ...                           ...       ...   \n",
       "819289        4  1553366653  Sat Apr 18 14:04:31 PDT 2009  NO_QUERY   \n",
       "1383641       4  2052586591  Sat Jun 06 01:15:03 PDT 2009  NO_QUERY   \n",
       "302734        0  1999149102  Mon Jun 01 19:43:31 PDT 2009  NO_QUERY   \n",
       "456452        0  2071285045  Sun Jun 07 19:08:39 PDT 2009  NO_QUERY   \n",
       "626395        0  2230571716  Thu Jun 18 17:18:06 PDT 2009  NO_QUERY   \n",
       "\n",
       "                    user                                               text  \\\n",
       "254108   Cupcakes_r_cute  Just got back from sushi, Run for Water, and I...   \n",
       "663922            indy44  @PlanetIrldotcom Just a heads up if you were p...   \n",
       "1592886       kellygysen  designing a billboard for our case-product: th...   \n",
       "562203        b1ng0bang0  @feblub Tell me about it  Didn't know what it ...   \n",
       "775336          atlcutii                It's too late to be doing homework    \n",
       "...                  ...                                                ...   \n",
       "819289          KnitLuck  happy saturday fellow crafters.  Just spent th...   \n",
       "1383641      moktelyamja  bonchet is such an understanding cat. told him...   \n",
       "302734           MrJonty  finally done with press conferences. Have all ...   \n",
       "456452       omgitsn33ps  @KatieRose393 i accidentally dropped my sister...   \n",
       "626395         Cboardkid  @Naughty_Dog i had one but then it didnt work ...   \n",
       "\n",
       "                                            text_processed  \n",
       "254108   [got, back, sushi, run, water, found, wisdom, ...  \n",
       "663922   [planetirldotcom, head, plan, dvr, ing, practi...  \n",
       "1592886  [design, billboard, case, product, garden, wat...  \n",
       "562203   [feblub, tell, know, wa, start, start, listen,...  \n",
       "775336                                    [late, homework]  \n",
       "...                                                    ...  \n",
       "819289   [happi, saturday, fellow, crafter, spent, morn...  \n",
       "1383641  [bonchet, understand, told, quot, kakak, sleep...  \n",
       "302734   [final, done, press, confer, two, hour, next, ...  \n",
       "456452   [katieros, accident, drop, sister, ipod, stair...  \n",
       "626395             [naughti, didnt, work, click, download]  \n",
       "\n",
       "[20000 rows x 7 columns]"
      ]
     },
     "execution_count": 19,
     "metadata": {},
     "output_type": "execute_result"
    }
   ],
   "source": [
    "sample_tweets"
   ]
  },
  {
   "cell_type": "markdown",
   "metadata": {},
   "source": [
    "### Creating Bag of Words\n",
    "\n",
    "The purpose of this step is to create a [bag of words](https://en.wikipedia.org/wiki/Bag-of-words_model) from the processed data. The bag of words contains all the unique words in your whole text body (a.k.a. *corpus*) with the number of occurrence of each word. It will allow you to understand which words are the most important features across the whole corpus.\n",
    "\n",
    "Also, you can imagine you will have a massive set of words. The less important words (i.e. those of very low number of occurrence) do not contribute much to the sentiment. Therefore, you only need to use the most important words to build your feature set in the next step. In our case, we will use the top 5,000 words with the highest frequency to build the features.\n",
    "\n",
    "In the cell below, combine all the words in `text_processed` and calculate the frequency distribution of all words. A convenient library to calculate the term frequency distribution is NLTK's `FreqDist` class ([documentation](https://www.nltk.org/api/nltk.html#module-nltk.probability)). Then select the top 5,000 words from the frequency distribution."
   ]
  },
  {
   "cell_type": "code",
   "execution_count": 54,
   "metadata": {},
   "outputs": [
    {
     "name": "stdout",
     "output_type": "stream",
     "text": [
      "FreqDist({'go': 1755, 'day': 1448, 'get': 1387, 'wa': 1323, 'good': 1194, 'like': 1072, 'work': 1060, 'love': 1028, 'quot': 937, 'today': 876, 'time': 841, 'got': 827, 'lol': 778, 'back': 777, 'thank': 736, 'miss': 722, 'know': 689, 'feel': 668, 'see': 652, 'think': 637, 'realli': 627, 'amp': 565, 'need': 552, 'watch': 550, 'make': 548, 'night': 545, 'hope': 529, 'new': 529, 'still': 523, 'oh': 522, 'well': 504, 'home': 484, 'look': 481, 'morn': 465, 'twitter': 461, 'much': 459, 'wish': 457, 'tomorrow': 448, 'last': 436, 'great': 409, 'sleep': 405, 'haha': 399, 'wait': 393, 'fun': 385, 'would': 376, 'happi': 370, 'sad': 370, 'bad': 365, 'week': 361, 'whi': 359, 'tonight': 345, 'right': 343, 'onli': 337, 'sorri': 333, 'follow': 330, 'though': 327, 'veri': 326, 'thing': 319, 'say': 313, 'nice': 311, 'gon': 310, 'way': 305, 'friend': 302, 'tweet': 286, 'could': 283, 'hate': 282, 'even': 280, 'better': 277, 'weekend': 273, 'guy': 273, 'show': 271, 'play': 269, 'hi': 269, 'bed': 264, 'peopl': 263, 'yeah': 260, 'hour': 258, 'x': 257, 'start': 253, 'dont': 246, 'final': 245, 'school': 241, 'lt': 240, 'never': 238, 'wan': 237, 'best': 237, 'tire': 233, 'ye': 233, 'hey': 229, 'let': 228, 'cant': 225, 'soon': 224, 'use': 222, 'next': 221, 'everyon': 217, 'rain': 213, 'plea': 209, 'first': 207, 'sure': 207, 'sick': 206, ...})\n"
     ]
    }
   ],
   "source": [
    "# your code here\n",
    "bagowords = sample_tweets['text_processed']\n",
    "\n",
    "bagowords.iloc[0]\n",
    "len(bagowords.iloc[0:10])\n",
    "allwords = []\n",
    "for r in bagowords:\n",
    "    allwords = allwords + r\n",
    "    \n",
    "# allwords = re_blob(allwords)\n",
    "# allwords\n",
    "\n",
    "from nltk.tokenize import word_tokenize\n",
    "from nltk.probability import FreqDist\n",
    "allzewirds = FreqDist(allwords)\n",
    "# for word in allwords:\n",
    "#     fdist[word.lower()] += 1\n",
    "# fdist\n",
    "\n",
    "allzewirds.pprint(maxlen=100)\n",
    "#fdist.pprint(maxlen=5000)\n",
    "#topwords = fdist.tabulate(5000)"
   ]
  },
  {
   "cell_type": "code",
   "execution_count": 55,
   "metadata": {
    "tags": []
   },
   "outputs": [],
   "source": [
    "word_features = list(allzewirds.keys())[:5000]"
   ]
  },
  {
   "cell_type": "markdown",
   "metadata": {
    "tags": []
   },
   "source": [
    "### Building Features\n",
    "\n",
    "Now let's build the features. Using the top 5,000 words, create a 2-dimensional matrix to record whether each of those words is contained in each document (tweet). Then you also have an output column to indicate whether the sentiment in each tweet is positive. For example, assuming your bag of words has 5 items (`['one', 'two', 'three', 'four', 'five']`) out of 4 documents (`['A', 'B', 'C', 'D']`), your feature set is essentially:\n",
    "\n",
    "| Doc | one | two | three | four | five | is_positive |\n",
    "|---|---|---|---|---|---|---|\n",
    "| A | True | False | False | True | False | True |\n",
    "| B | False | False | False | True | True | False |\n",
    "| C | False | True | False | False | False | True |\n",
    "| D | True | False | False | False | True | False|\n",
    "\n",
    "However, because the `nltk.NaiveBayesClassifier.train` class we will use in the next step does not work with Pandas dataframe, the structure of your feature set should be converted to the Python list looking like below:\n",
    "\n",
    "```python\n",
    "[\n",
    "\t({\n",
    "\t\t'one': True,\n",
    "\t\t'two': False,\n",
    "\t\t'three': False,\n",
    "\t\t'four': True,\n",
    "\t\t'five': False\n",
    "\t}, True),\n",
    "\t({\n",
    "\t\t'one': False,\n",
    "\t\t'two': False,\n",
    "\t\t'three': False,\n",
    "\t\t'four': True,\n",
    "\t\t'five': True\n",
    "\t}, False),\n",
    "\t({\n",
    "\t\t'one': False,\n",
    "\t\t'two': True,\n",
    "\t\t'three': False,\n",
    "\t\t'four': False,\n",
    "\t\t'five': False\n",
    "\t}, True),\n",
    "\t({\n",
    "\t\t'one': True,\n",
    "\t\t'two': False,\n",
    "\t\t'three': False,\n",
    "\t\t'four': False,\n",
    "\t\t'five': True\n",
    "\t}, False)\n",
    "]\n",
    "```\n",
    "\n",
    "To help you in this step, watch the [following video](https://www.youtube.com/watch?v=-vVskDsHcVc) to learn how to build the feature set with Python and NLTK. The source code in this video can be found [here](https://pythonprogramming.net/words-as-features-nltk-tutorial/)."
   ]
  },
  {
   "cell_type": "markdown",
   "metadata": {},
   "source": [
    "[![Building Features](building-features.jpg)](https://www.youtube.com/watch?v=-vVskDsHcVc)"
   ]
  },
  {
   "cell_type": "code",
   "execution_count": 60,
   "metadata": {},
   "outputs": [],
   "source": [
    "# your code here\n",
    "def find_features(text):\n",
    "    words = set(text)\n",
    "    features = {}\n",
    "    for bird in word_features:\n",
    "        features[bird] = (bird in words)\n",
    "    return features\n",
    "\n",
    "def re_blob(x):\n",
    "    return \" \".join(x)\n",
    "\n",
    "#find_features(sample_tweets['text_processed'].iloc[0])\n",
    "#target: the polarity of the tweet (0 = negative, 2 = neutral, 4 = positive"
   ]
  },
  {
   "cell_type": "code",
   "execution_count": 71,
   "metadata": {},
   "outputs": [],
   "source": [
    "featuresets = [(find_features(text),target) for (text, target) in sample_tweets[['text_processed','target']].values]"
   ]
  },
  {
   "cell_type": "code",
   "execution_count": 74,
   "metadata": {},
   "outputs": [],
   "source": [
    "#featuresets[0]"
   ]
  },
  {
   "cell_type": "markdown",
   "metadata": {},
   "source": [
    "### Building and Traininng Naive Bayes Model\n",
    "\n",
    "In this step you will split your feature set into a training and a test set. Then you will create a Bayes classifier instance using `nltk.NaiveBayesClassifier.train` ([example](https://www.nltk.org/book/ch06.html)) to train with the training dataset.\n",
    "\n",
    "After training the model, call `classifier.show_most_informative_features()` to inspect the most important features. The output will look like:\n",
    "\n",
    "```\n",
    "Most Informative Features\n",
    "\t    snow = True            False : True   =     34.3 : 1.0\n",
    "\t  easter = True            False : True   =     26.2 : 1.0\n",
    "\t headach = True            False : True   =     20.9 : 1.0\n",
    "\t    argh = True            False : True   =     17.6 : 1.0\n",
    "\tunfortun = True            False : True   =     16.9 : 1.0\n",
    "\t    jona = True             True : False  =     16.2 : 1.0\n",
    "\t     ach = True            False : True   =     14.9 : 1.0\n",
    "\t     sad = True            False : True   =     13.0 : 1.0\n",
    "\t  parent = True            False : True   =     12.9 : 1.0\n",
    "\t  spring = True            False : True   =     12.7 : 1.0\n",
    "```\n",
    "\n",
    "The [following video](https://www.youtube.com/watch?v=rISOsUaTrO4) will help you complete this step. The source code in this video can be found [here](https://pythonprogramming.net/naive-bayes-classifier-nltk-tutorial/)."
   ]
  },
  {
   "cell_type": "markdown",
   "metadata": {},
   "source": [
    "[![Building and Training NB](nb-model-building.jpg)](https://www.youtube.com/watch?v=rISOsUaTrO4)"
   ]
  },
  {
   "cell_type": "code",
   "execution_count": 77,
   "metadata": {},
   "outputs": [
    {
     "name": "stdout",
     "output_type": "stream",
     "text": [
      "Most Informative Features\n",
      "                     sad = True                0 : 4      =     32.6 : 1.0\n",
      "                 congrat = True                4 : 0      =     23.5 : 1.0\n",
      "            followfriday = True                4 : 0      =     16.0 : 1.0\n",
      "                     fml = True                0 : 4      =     14.7 : 1.0\n",
      "                  broken = True                0 : 4      =     14.0 : 1.0\n",
      "                   sadli = True                0 : 4      =     13.4 : 1.0\n",
      "                   upset = True                0 : 4      =     12.3 : 1.0\n",
      "                  bummer = True                0 : 4      =     11.4 : 1.0\n",
      "                   group = True                4 : 0      =     11.2 : 1.0\n",
      "                  welcom = True                4 : 0      =     10.9 : 1.0\n",
      "                   broke = True                0 : 4      =     10.8 : 1.0\n",
      "                    blah = True                0 : 4      =     10.1 : 1.0\n",
      "                    blow = True                0 : 4      =     10.1 : 1.0\n",
      "                 terribl = True                0 : 4      =     10.1 : 1.0\n",
      "                    pain = True                0 : 4      =      9.7 : 1.0\n"
     ]
    }
   ],
   "source": [
    "from nltk import NaiveBayesClassifier\n",
    "\n",
    "# your code here\n",
    "# set that we'll train our classifier with\n",
    "training_set = featuresets[:16000]\n",
    "\n",
    "# set that we'll test against.\n",
    "testing_set = featuresets[16000:]\n",
    "\n",
    "classifier = NaiveBayesClassifier.train(training_set)\n",
    "\n",
    "classifier.show_most_informative_features(15)"
   ]
  },
  {
   "cell_type": "markdown",
   "metadata": {},
   "source": [
    "### Testing Naive Bayes Model\n",
    "\n",
    "Now we'll test our classifier with the test dataset. This is done by calling `nltk.classify.accuracy(classifier, test)`.\n",
    "\n",
    "As mentioned in one of the tutorial videos, a Naive Bayes model is considered OK if your accuracy score is over 0.6. If your accuracy score is over 0.7, you've done a great job!"
   ]
  },
  {
   "cell_type": "code",
   "execution_count": 78,
   "metadata": {},
   "outputs": [
    {
     "name": "stdout",
     "output_type": "stream",
     "text": [
      "Classifier accuracy percent: 73.35000000000001\n"
     ]
    }
   ],
   "source": [
    "# your code here\n",
    "print(\"Classifier accuracy percent:\",(nltk.classify.accuracy(classifier, testing_set))*100)"
   ]
  },
  {
   "cell_type": "markdown",
   "metadata": {},
   "source": [
    "## Bonus Question 1: Improve Model Performance\n",
    "\n",
    "If you are still not exhausted so far and want to dig deeper, try to improve your classifier performance. There are many aspects you can dig into, for example:\n",
    "\n",
    "* Improve stemming and lemmatization. Inspect your bag of words and the most important features. Are there any words you should furuther remove from analysis? You can append these words to further remove to the stop words list.\n",
    "\n",
    "* Remember we only used the top 5,000 features to build model? Try using different numbers of top features. The bottom line is to use as few features as you can without compromising your model performance. The fewer features you select into your model, the faster your model is trained. Then you can use a larger sample size to improve your model accuracy score."
   ]
  },
  {
   "cell_type": "code",
   "execution_count": null,
   "metadata": {},
   "outputs": [],
   "source": [
    "# your code here"
   ]
  },
  {
   "cell_type": "markdown",
   "metadata": {},
   "source": [
    "## Bonus Question 2: Machine Learning Pipeline\n",
    "\n",
    "In a new Jupyter Notebook, combine all your codes into a function (or a class). Your new function will execute the complete machine learning pipeline job by receiving the dataset location and output the classifier. This will allow you to use your function to predict the sentiment of any tweet in real time. "
   ]
  },
  {
   "cell_type": "code",
   "execution_count": null,
   "metadata": {},
   "outputs": [],
   "source": [
    "# your code here"
   ]
  },
  {
   "cell_type": "markdown",
   "metadata": {},
   "source": [
    "## Bonus Question 3: Apache Spark\n",
    "\n",
    "If you have completed the Apache Spark advanced topic lab, what you can do is to migrate your pipeline from local to a Databricks Notebook. Share your notebook with your instructor and classmates to show off your achievements!"
   ]
  },
  {
   "cell_type": "code",
   "execution_count": null,
   "metadata": {},
   "outputs": [],
   "source": [
    "# your code here"
   ]
  }
 ],
 "metadata": {
  "kernelspec": {
   "display_name": "Python 3 (ipykernel)",
   "language": "python",
   "name": "python3"
  },
  "language_info": {
   "codemirror_mode": {
    "name": "ipython",
    "version": 3
   },
   "file_extension": ".py",
   "mimetype": "text/x-python",
   "name": "python",
   "nbconvert_exporter": "python",
   "pygments_lexer": "ipython3",
   "version": "3.9.6"
  }
 },
 "nbformat": 4,
 "nbformat_minor": 4
}
